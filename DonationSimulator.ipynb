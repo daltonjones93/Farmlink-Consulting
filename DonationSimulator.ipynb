{
 "cells": [
  {
   "cell_type": "code",
   "execution_count": 19,
   "metadata": {},
   "outputs": [],
   "source": [
    "import requests\n",
    "from glob import glob\n",
    "from bs4 import BeautifulSoup\n",
    "import pandas as pd\n",
    "from datetime import datetime\n",
    "from time import sleep\n",
    "from tqdm import tqdm\n",
    "import numpy as np\n",
    "HEADERS = ({'User-Agent':\n",
    "            'Mozilla/5.0 (Windows NT 6.1) AppleWebKit/537.36 (KHTML, like Gecko) Chrome/41.0.2228.0 Safari/537.36',\n",
    "            'Accept-Language': 'en-US, en;q=0.5'})"
   ]
  },
  {
   "cell_type": "code",
   "execution_count": 5,
   "metadata": {},
   "outputs": [
    {
     "name": "stdout",
     "output_type": "stream",
     "text": [
      "None\n",
      "Just Bare Natural Fresh Chicken Breast Fillets | No Antibiotics Ever | Boneless | Skinless | 1.0 LB\n",
      "NAN\n"
     ]
    }
   ],
   "source": [
    "# url = 'https://www.amazon.com/Just-BARE-Chicken-Hand-Trimmed-Boneless/dp/B00AR0ZZ62/ref=sr_1_2?_encoding=UTF8&c=ts&dchild=1&keywords=Chicken&qid=1624295062&s=grocery&sr=1-2&ts_id=2256156011'\n",
    "# # url ='https://www.amazon.com/Just-BARE-Chicken-Hand-Trimmed-Tenderloins/dp/B07PSZTSGH/ref=sr_1_3?_encoding=UTF8&c=ts&dchild=1&keywords=Chicken&qid=1624295062&s=grocery&sr=1-3&ts_id=2256156011'\n",
    "\n",
    "# page = requests.get(url, headers=HEADERS)\n",
    "# soup = BeautifulSoup(page.content, features=\"lxml\")\n",
    "\n",
    "# #product title\n",
    "# title = soup.find(id='productTitle').get_text().strip()\n",
    "\n",
    "\n",
    "\n",
    "# print(soup.find('span', class_ = 'a-size-small a-color-price'))\n",
    "\n",
    "\n",
    "# # print(soup)\n",
    "# # assert False\n",
    "\n",
    "# # # print(soup.find(id='priceblock_ourprice'))\n",
    "# # assert False\n",
    "# try:\n",
    "#     price = float(soup.find(id='priceblock_ourprice').get_text().replace('.', '').replace('$', '').replace(',', '.').strip())\n",
    "# except:\n",
    "#     # this part gets the price in dollars from amazon.com store\n",
    "#     try:\n",
    "#         price = float(soup.find(id='priceblock_saleprice').get_text().replace('$', '').replace(',', '').strip())\n",
    "#     except:\n",
    "#         price = 'NAN'\n",
    "\n",
    "# print(title)\n",
    "# print(price)"
   ]
  },
  {
   "cell_type": "code",
   "execution_count": 16,
   "metadata": {},
   "outputs": [
    {
     "name": "stdout",
     "output_type": "stream",
     "text": [
      "($5.66 / lb)\n"
     ]
    }
   ],
   "source": [
    "\n"
   ]
  },
  {
   "cell_type": "code",
   "execution_count": 20,
   "metadata": {},
   "outputs": [
    {
     "ename": "IndexError",
     "evalue": "list index out of range",
     "output_type": "error",
     "traceback": [
      "\u001b[0;31m---------------------------------------------------------------------------\u001b[0m",
      "\u001b[0;31mIndexError\u001b[0m                                Traceback (most recent call last)",
      "\u001b[0;32m<ipython-input-20-32eb1c78b7b5>\u001b[0m in \u001b[0;36m<module>\u001b[0;34m\u001b[0m\n\u001b[1;32m     21\u001b[0m         \u001b[0mnewlist\u001b[0m\u001b[0;34m.\u001b[0m\u001b[0mappend\u001b[0m\u001b[0;34m(\u001b[0m\u001b[0ms\u001b[0m\u001b[0;34m)\u001b[0m\u001b[0;34m\u001b[0m\u001b[0;34m\u001b[0m\u001b[0m\n\u001b[1;32m     22\u001b[0m \u001b[0;34m\u001b[0m\u001b[0m\n\u001b[0;32m---> 23\u001b[0;31m \u001b[0mget_price\u001b[0m\u001b[0;34m(\u001b[0m\u001b[0msouplist\u001b[0m\u001b[0;34m[\u001b[0m\u001b[0;36m0\u001b[0m\u001b[0;34m]\u001b[0m\u001b[0;34m)\u001b[0m\u001b[0;34m\u001b[0m\u001b[0;34m\u001b[0m\u001b[0m\n\u001b[0m\u001b[1;32m     24\u001b[0m \u001b[0;34m\u001b[0m\u001b[0m\n",
      "\u001b[0;31mIndexError\u001b[0m: list index out of range"
     ]
    }
   ],
   "source": [
    "\n",
    "url  = 'https://www.amazon.com/s?k=apple&i=wholefoods&ref=nb_sb_noss_2'\n",
    "\n",
    "page = requests.get(url, headers = HEADERS)\n",
    "soup = BeautifulSoup(page.content, features=\"lxml\")\n",
    "\n",
    "# print(soup)\n",
    "\n",
    "def get_price(entry):\n",
    "    return float(entry.split('/')[0].split('$')[1])\n",
    "\n",
    "#product title\n",
    "# title = soup.find(id='productTitle').get_text().strip()\n",
    "\n",
    "\n",
    "\n",
    "souplist = [s.get_text() for s in soup.find_all('span', class_ = 'a-size-base a-color-secondary')]\n",
    "\n",
    "newlist = []\n",
    "for s in souplist:\n",
    "    if 'lb' in s:\n",
    "        newlist.append(s)\n",
    "\n",
    "get_price(souplist[0])\n",
    "\n"
   ]
  },
  {
   "cell_type": "code",
   "execution_count": 23,
   "metadata": {},
   "outputs": [
    {
     "name": "stdout",
     "output_type": "stream",
     "text": [
      "[]\n",
      "[]\n"
     ]
    }
   ],
   "source": [
    "url = 'https://www.amazon.com/s?k=apples&i=wholefoods&ref=nb_sb_noss_1'\n",
    "\n",
    "page = requests.get(url, headers=HEADERS)\n",
    "soup = BeautifulSoup(page.content, features=\"lxml\")\n",
    "\n",
    "l1 = [l.get_text() for l in soup.find_all('span', class_ = 'a-offscreen')]\n",
    "l2 = [l.get_text() for l in soup.find_all('span', class_ = 'a-size-base a-color-base')]\n",
    "\n",
    "print(l1)\n",
    "print(l2[:len(l1)])\n",
    "\n",
    "\n",
    "\n",
    "# print(soup)"
   ]
  },
  {
   "cell_type": "code",
   "execution_count": 15,
   "metadata": {},
   "outputs": [
    {
     "name": "stderr",
     "output_type": "stream",
     "text": [
      "\r",
      "  0%|          | 0/3 [00:00<?, ?it/s]"
     ]
    },
    {
     "name": "stdout",
     "output_type": "stream",
     "text": [
      "Calculating Deductions For Simulated Donations\n"
     ]
    },
    {
     "name": "stderr",
     "output_type": "stream",
     "text": [
      "\r",
      " 33%|███▎      | 1/3 [00:00<00:01,  1.30it/s]"
     ]
    },
    {
     "name": "stdout",
     "output_type": "stream",
     "text": [
      "['$0.69', '$1.99', '$0.59', '$4.99', '$2.99', '$3.19', '$5.99', '$3.69', '$1.29', '$12.59', '$6.99', '$2.29', '$7.99', '$4.22', '$6.29', '$4.22', '$6.29', '$1.49', '$3.69', '$4.99', '$2.69', '$7.99', '$3.15', '$4.99', '$6.79', '$3.69', '$1.49']\n",
      "['/lb', '/lb', '/lb', '/lb', '/lb', ' or ', 'Prime Day Deals', 'Any Department', 'Whole Foods Market', 'Baby Foods', 'Beverages', 'Breads & Bakery', 'Breakfast Foods', 'Candy & Chocolate', 'Dairy, Cheese & Eggs', 'Deli & Prepared Foods', 'Frozen', 'Meat & Seafood', 'Pantry Staples', 'Produce', 'Snack Foods', '365 by Whole Foods Market', 'Happy Baby', 'Simple Mills', 'GoGo SqueeZ', 'Amazing Grass', 'Barnana']\n"
     ]
    },
    {
     "name": "stderr",
     "output_type": "stream",
     "text": [
      "\r",
      " 67%|██████▋   | 2/3 [00:01<00:00,  1.30it/s]"
     ]
    },
    {
     "name": "stdout",
     "output_type": "stream",
     "text": [
      "['$2.99', '$5.99', '$2.49', '$5.99', '$2.99', '$3.99', '$8.99', '$2.49', '$21.59', '$29.99', '$5.99', '$3.32', '$4.29', '$2.49', '$6.79', '$9.89', '$11.79', '$12.59', '$2.99', '$8.29', '$4.19', '$11.99', '$2.99', '$6.99', '$9.79', '$1.99', '$6.69']\n",
      "['/lb', '/lb', '/lb', '/lb', '/lb', '/lb', ' or ', 'Prime Day Deals', 'Any Department', 'Whole Foods Market', 'Baby Foods', 'Beverages', 'Breads & Bakery', 'Breakfast Foods', 'Candy & Chocolate', 'Dairy, Cheese & Eggs', 'Deli & Prepared Foods', 'Food & Beverage Gifts', 'Frozen', 'Meat & Seafood', 'Meat Substitutes', 'Pantry Staples', 'Produce', 'Snack Foods', '365 by Whole Foods Market', 'Applegate', 'Whole Foods Market']\n"
     ]
    },
    {
     "name": "stderr",
     "output_type": "stream",
     "text": [
      "100%|██████████| 3/3 [00:02<00:00,  1.25it/s]"
     ]
    },
    {
     "name": "stdout",
     "output_type": "stream",
     "text": [
      "['$6.49', '$3.69', '$4.99', '$7.49', '$4.99', '$2.99', '$4.69', '$4.99', '$1.99', '$4.04', '$4.99', '$3.59', '$4.99', '$5.79', '$4.99', '$3.99', '$4.04', '$4.99', '$6.99', '$4.49', '$4.99', '$5.39', '$6.99', '$7.99', '$4.99', '$1.99', '$3.49', '$6.99']\n",
      "[' or ', 'Prime Day Deals', 'Any Department', 'Whole Foods Market', 'Baby Foods', 'Alcoholic Beverages', 'Beverages', 'Breads & Bakery', 'Breakfast Foods', 'Candy & Chocolate', 'Dairy, Cheese & Eggs', 'Food & Beverage Gifts', 'Frozen', 'Meat & Seafood', 'Pantry Staples', 'Produce', 'Snack Foods', '365 by Whole Foods Market', 'Whole Foods Market', 'Stonyfield Organic', 'Forager Project', 'Crofters', 'Icelandic Provisions', \"Annie's Homegrown\", 'Under $10', '$10 to $20', '$20 to $30', '$30 to $50']\n",
      "Total deduction expected is 44.56\n",
      "Deduction expected using old system is 9.42\n"
     ]
    },
    {
     "name": "stderr",
     "output_type": "stream",
     "text": [
      "\n"
     ]
    },
    {
     "data": {
      "text/html": [
       "<div>\n",
       "<style scoped>\n",
       "    .dataframe tbody tr th:only-of-type {\n",
       "        vertical-align: middle;\n",
       "    }\n",
       "\n",
       "    .dataframe tbody tr th {\n",
       "        vertical-align: top;\n",
       "    }\n",
       "\n",
       "    .dataframe thead th {\n",
       "        text-align: right;\n",
       "    }\n",
       "</style>\n",
       "<table border=\"1\" class=\"dataframe\">\n",
       "  <thead>\n",
       "    <tr style=\"text-align: right;\">\n",
       "      <th></th>\n",
       "      <th>Product</th>\n",
       "      <th>Fair Market Price Per Pound</th>\n",
       "      <th>Basis Price Per Pound</th>\n",
       "      <th>Pounds Donated</th>\n",
       "      <th>Deduction Expected</th>\n",
       "    </tr>\n",
       "  </thead>\n",
       "  <tbody>\n",
       "    <tr>\n",
       "      <th>0</th>\n",
       "      <td>Bananas</td>\n",
       "      <td>19.04</td>\n",
       "      <td>15.87</td>\n",
       "      <td>1.0</td>\n",
       "      <td>17.46</td>\n",
       "    </tr>\n",
       "    <tr>\n",
       "      <th>1</th>\n",
       "      <td>Apples</td>\n",
       "      <td>2.00</td>\n",
       "      <td>1.67</td>\n",
       "      <td>1.0</td>\n",
       "      <td>1.84</td>\n",
       "    </tr>\n",
       "    <tr>\n",
       "      <th>2</th>\n",
       "      <td>Strawberries</td>\n",
       "      <td>3.25</td>\n",
       "      <td>2.71</td>\n",
       "      <td>1.0</td>\n",
       "      <td>2.98</td>\n",
       "    </tr>\n",
       "    <tr>\n",
       "      <th>3</th>\n",
       "      <td>Total</td>\n",
       "      <td>0.00</td>\n",
       "      <td>0.00</td>\n",
       "      <td>3.0</td>\n",
       "      <td>22.28</td>\n",
       "    </tr>\n",
       "  </tbody>\n",
       "</table>\n",
       "</div>"
      ],
      "text/plain": [
       "        Product  Fair Market Price Per Pound  Basis Price Per Pound  \\\n",
       "0       Bananas                        19.04                  15.87   \n",
       "1        Apples                         2.00                   1.67   \n",
       "2  Strawberries                         3.25                   2.71   \n",
       "3         Total                         0.00                   0.00   \n",
       "\n",
       "   Pounds Donated  Deduction Expected  \n",
       "0             1.0               17.46  \n",
       "1             1.0                1.84  \n",
       "2             1.0                2.98  \n",
       "3             3.0               22.28  "
      ]
     },
     "execution_count": 15,
     "metadata": {},
     "output_type": "execute_result"
    }
   ],
   "source": [
    "productList = ['Bananas','Apples','Strawberries']\n",
    "\n",
    "#the rule for deduction is basis value + profit margin/2\n",
    "#in our case this means that we will take \n",
    "\n",
    "\n",
    "def scrapePricePerPound(productList,lbsDonated = 1,profitMargin = .2):\n",
    "    datadict = {\"Product\":[],'Fair Market Price Per Pound':[], 'Basis Price Per Pound':[],\n",
    "                'Pounds Donated':[], 'Deduction Expected':[]}\n",
    "    \n",
    "    \n",
    "    if isinstance(lbsDonated, int) or isinstance(lbsDonated, float):\n",
    "        donateList = False\n",
    "    elif isinstance(lbsDonated, list):\n",
    "        \n",
    "        assert len(lbsDonated) == len(productList), 'List lengths do not match'\n",
    "        donateList = True\n",
    "        \n",
    "    print('Calculating Deductions For Simulated Donations')\n",
    "    for i in tqdm(range(len(productList))):\n",
    "        \n",
    "        p = productList[i]\n",
    "        url = 'https://www.amazon.com/s?k='+p+'&i=wholefoods&ref=nb_sb_noss_1'\n",
    "        \n",
    "        page = requests.get(url, headers=HEADERS)\n",
    "        soup = BeautifulSoup(page.content, features=\"lxml\")\n",
    "        \n",
    "        try:\n",
    "            l1 = [l.get_text() for l in soup.find_all('span', class_ = 'a-offscreen')]\n",
    "            l2 = [l.get_text() for l in soup.find_all('span', class_ = 'a-size-base a-color-base')]\n",
    "\n",
    "            l2 = l2[:len(l1)]\n",
    "            \n",
    "            print(l1)\n",
    "            print(l2)\n",
    "            assert False\n",
    "            pricefound = False\n",
    "            \n",
    "            \n",
    "            for j in range(len(l1)):\n",
    "                if 'lb' in l2[j]:\n",
    "                    price = float(l1[j].replace('$',''))\n",
    "                    pricefound = True\n",
    "                    \n",
    "                    break\n",
    "            if not pricefound:\n",
    "                \n",
    "                assert False\n",
    "        except:\n",
    "            #do other system\n",
    "            souplist = [s.get_text() for s in soup.find_all('span', class_ = 'a-size-base a-color-secondary')]\n",
    "            \n",
    "            for s in souplist:\n",
    "                if 'lb' in s:\n",
    "                    price = s.split('/')[0].replace('$','').replace('(','')\n",
    "                    price = float(price)\n",
    "                    break\n",
    "                elif 'Fl Oz' or 'Ounce' in s:\n",
    "                    price = 16*float(s.split('/')[0].replace('$','').replace('(',''))\n",
    "                    break\n",
    "                    \n",
    "                else:\n",
    "                    price = np.nan\n",
    "                    \n",
    "        basisValue = round(price/(1+profitMargin),2)\n",
    "        datadict['Basis Price Per Pound'].append(basisValue)\n",
    "        deductionRate = basisValue + (profitMargin/2.)*basisValue\n",
    "        \n",
    "        if donateList:\n",
    "#             print(i)\n",
    "#             print(lbsDonated[i])\n",
    "            \n",
    "            deduction = float(lbsDonated[i])*deductionRate\n",
    "            \n",
    "            datadict['Pounds Donated'].append(float(lbsDonated[i]))\n",
    "            \n",
    "        else:\n",
    "            deduction = float(lbsDonated)*deductionRate\n",
    "            datadict['Pounds Donated'].append(float(lbsDonated))\n",
    "            \n",
    "        datadict['Deduction Expected'].append(round(deduction,2))\n",
    "                    \n",
    "#         print('Price of '+p+' is '+str(price)+'/lb')\n",
    "        datadict['Product'].append(p)\n",
    "        datadict['Fair Market Price Per Pound'].append(price)\n",
    "    datadict['Product'].append('Total')\n",
    "    datadict['Pounds Donated'].append(sum(datadict['Pounds Donated']))\n",
    "    datadict['Deduction Expected'].append(sum(datadict['Deduction Expected']))\n",
    "    datadict['Basis Price Per Pound'].append(0)\n",
    "    datadict['Fair Market Price Per Pound'].append(0)\n",
    "    total_deduction = sum(datadict['Deduction Expected'])\n",
    "    print('Total deduction expected is '+str(total_deduction))\n",
    "    print('Deduction expected using old system is '+str(1.57*sum(datadict['Pounds Donated'])))\n",
    "    return datadict\n",
    "\n",
    "# scrapePricePerPound(productList)  \n",
    "                \n",
    "# df= pd.read_csv('producelist.csv')\n",
    "# productList = list(df['Product Name'].values)\n",
    "# lbsDonated = list(50*np.random.rand(len(productList)))\n",
    "\n",
    "\n",
    "# print(isinstance)\n",
    "\n",
    "# datadict = \n",
    "\n",
    "# print()\n",
    "\n",
    "df = pd.DataFrame(scrapePricePerPound(productList))\n",
    "df.head()\n",
    "# df.to_csv('deductionsimulatortest.csv',index = False)"
   ]
  },
  {
   "cell_type": "code",
   "execution_count": 92,
   "metadata": {},
   "outputs": [],
   "source": [
    "import tkinter as tk\n"
   ]
  },
  {
   "cell_type": "code",
   "execution_count": null,
   "metadata": {},
   "outputs": [],
   "source": []
  }
 ],
 "metadata": {
  "kernelspec": {
   "display_name": "Python 3",
   "language": "python",
   "name": "python3"
  },
  "language_info": {
   "codemirror_mode": {
    "name": "ipython",
    "version": 3
   },
   "file_extension": ".py",
   "mimetype": "text/x-python",
   "name": "python",
   "nbconvert_exporter": "python",
   "pygments_lexer": "ipython3",
   "version": "3.8.3"
  }
 },
 "nbformat": 4,
 "nbformat_minor": 4
}
