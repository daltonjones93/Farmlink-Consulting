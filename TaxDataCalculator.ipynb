{
 "cells": [
  {
   "cell_type": "code",
   "execution_count": 72,
   "metadata": {},
   "outputs": [],
   "source": [
    "import requests\n",
    "from glob import glob\n",
    "from bs4 import BeautifulSoup\n",
    "import pandas as pd\n",
    "from datetime import datetime\n",
    "from time import sleep\n",
    "from tqdm import tqdm"
   ]
  },
  {
   "cell_type": "code",
   "execution_count": 18,
   "metadata": {},
   "outputs": [
    {
     "name": "stdout",
     "output_type": "stream",
     "text": [
      "($4.45 / lb)\n"
     ]
    },
    {
     "ename": "AssertionError",
     "evalue": "",
     "output_type": "error",
     "traceback": [
      "\u001b[0;31m---------------------------------------------------------------------------\u001b[0m",
      "\u001b[0;31mAssertionError\u001b[0m                            Traceback (most recent call last)",
      "\u001b[0;32m<ipython-input-18-c396bff5eeb4>\u001b[0m in \u001b[0;36m<module>\u001b[0;34m\u001b[0m\n\u001b[1;32m     14\u001b[0m \u001b[0;34m\u001b[0m\u001b[0m\n\u001b[1;32m     15\u001b[0m \u001b[0;31m# print(soup)\u001b[0m\u001b[0;34m\u001b[0m\u001b[0;34m\u001b[0m\u001b[0;34m\u001b[0m\u001b[0m\n\u001b[0;32m---> 16\u001b[0;31m \u001b[0;32massert\u001b[0m \u001b[0;32mFalse\u001b[0m\u001b[0;34m\u001b[0m\u001b[0;34m\u001b[0m\u001b[0m\n\u001b[0m\u001b[1;32m     17\u001b[0m \u001b[0;34m\u001b[0m\u001b[0m\n\u001b[1;32m     18\u001b[0m \u001b[0;31m# print(soup.find(id='priceblock_ourprice'))\u001b[0m\u001b[0;34m\u001b[0m\u001b[0;34m\u001b[0m\u001b[0;34m\u001b[0m\u001b[0m\n",
      "\u001b[0;31mAssertionError\u001b[0m: "
     ]
    }
   ],
   "source": [
    "url = 'https://www.amazon.com/Just-BARE-Chicken-Hand-Trimmed-Boneless/dp/B00AR0ZZ62/ref=sr_1_2?_encoding=UTF8&c=ts&dchild=1&keywords=Chicken&qid=1624295062&s=grocery&sr=1-2&ts_id=2256156011'\n",
    "url ='https://www.amazon.com/Just-BARE-Chicken-Hand-Trimmed-Tenderloins/dp/B07PSZTSGH/ref=sr_1_3?_encoding=UTF8&c=ts&dchild=1&keywords=Chicken&qid=1624295062&s=grocery&sr=1-3&ts_id=2256156011'\n",
    "\n",
    "page = requests.get(url, headers=HEADERS)\n",
    "soup = BeautifulSoup(page.content, features=\"lxml\")\n",
    "\n",
    "#product title\n",
    "title = soup.find(id='productTitle').get_text().strip()\n",
    "\n",
    "\n",
    "\n",
    "print(soup.find('span', class_ = 'a-size-small a-color-price').get_text())\n",
    "\n",
    "\n",
    "# print(soup)\n",
    "assert False\n",
    "\n",
    "# print(soup.find(id='priceblock_ourprice'))\n",
    "assert False\n",
    "try:\n",
    "    price = float(soup.find(id='priceblock_ourprice').get_text().replace('.', '').replace('$', '').replace(',', '.').strip())\n",
    "except:\n",
    "    # this part gets the price in dollars from amazon.com store\n",
    "    try:\n",
    "        price = float(soup.find(id='priceblock_saleprice').get_text().replace('$', '').replace(',', '').strip())\n",
    "    except:\n",
    "        price = 'NAN'\n",
    "\n",
    "print(title)\n",
    "print(price)"
   ]
  },
  {
   "cell_type": "code",
   "execution_count": 16,
   "metadata": {},
   "outputs": [
    {
     "name": "stdout",
     "output_type": "stream",
     "text": [
      "($5.66 / lb)\n"
     ]
    }
   ],
   "source": [
    "\n"
   ]
  },
  {
   "cell_type": "code",
   "execution_count": 52,
   "metadata": {},
   "outputs": [
    {
     "name": "stdout",
     "output_type": "stream",
     "text": [
      "2.0\n"
     ]
    }
   ],
   "source": [
    "\n",
    "url  = 'https://www.amazon.com/s?k=apple&i=wholefoods&ref=nb_sb_noss_2'\n",
    "\n",
    "page = requests.get(url, headers=HEADERS)\n",
    "soup = BeautifulSoup(page.content, features=\"lxml\")\n",
    "\n",
    "# print(soup)\n",
    "\n",
    "#product title\n",
    "# title = soup.find(id='productTitle').get_text().strip()\n",
    "\n",
    "\n",
    "\n",
    "souplist = [s.get_text() for s in soup.find_all('span', class_ = 'a-size-base a-color-secondary')]\n",
    "\n",
    "\n",
    "# slist = []\n",
    "# for s in souplist:\n",
    "#     slist.append(s.get_text())\n",
    "    \n",
    "\n",
    "for s in souplist:\n",
    "#     print(s)\n",
    "    if 'Count' in s:\n",
    "        continue\n",
    "    else:\n",
    "        price = s\n",
    "        break\n",
    "        \n",
    "price = float(price.split('/')[0].replace('$','').replace('(',''))\n",
    "print(float(price))\n",
    "\n",
    "#three subroutines:\n",
    "#lb,Ounce,Fl Oz\n",
    "\n",
    "# print(soup.find_all('span', class_ = 'a-size-base a-color-secondary'))\n"
   ]
  },
  {
   "cell_type": "code",
   "execution_count": 49,
   "metadata": {},
   "outputs": [
    {
     "name": "stdout",
     "output_type": "stream",
     "text": [
      "['$21.99', '$8.99', '$9.99', '$19.99', '$8.99', '$21.99', '$8.99', '$9.99', '$7.99', '$9.99', '$11.99', '$29.99', '$5.29', '$3.99', '$7.99', '$6.99', '$9.99', '$4.99', '$13.99', '$4.19', '$8.29', '$4.59', '$1.35', '$1.99', '$6.99']\n",
      "['/lb', '/lb', '/lb', '/lb', '/lb', '/lb', '/lb', '/lb', '/lb', '/lb', '/lb', '/lb', '/lb', '/lb', ' or ', 'Any Department', 'Whole Foods Market', 'Beverages', 'Breads & Bakery', 'Dairy, Cheese & Eggs', 'Deli & Prepared Foods', 'Food & Beverage Gifts', 'Frozen', 'Meat & Seafood', 'Meat Substitutes']\n"
     ]
    }
   ],
   "source": [
    "url = 'https://www.amazon.com/s?k=lamb&i=wholefoods&ref=nb_sb_noss_1'\n",
    "\n",
    "page = requests.get(url, headers=HEADERS)\n",
    "soup = BeautifulSoup(page.content, features=\"lxml\")\n",
    "\n",
    "l1 = [l.get_text() for l in soup.find_all('span', class_ = 'a-offscreen')]\n",
    "l2 = [l.get_text() for l in soup.find_all('span', class_ = 'a-size-base a-color-base')]\n",
    "\n",
    "print(l1)\n",
    "print(l2[:len(l1)])\n",
    "\n",
    "\n",
    "\n",
    "# print(soup)"
   ]
  },
  {
   "cell_type": "code",
   "execution_count": 73,
   "metadata": {},
   "outputs": [
    {
     "name": "stderr",
     "output_type": "stream",
     "text": [
      "\r",
      "  0%|          | 0/52 [00:00<?, ?it/s]"
     ]
    },
    {
     "name": "stdout",
     "output_type": "stream",
     "text": [
      "Calculating Deductions For Simulated Donations\n"
     ]
    },
    {
     "name": "stderr",
     "output_type": "stream",
     "text": [
      "100%|██████████| 52/52 [00:51<00:00,  1.02it/s]"
     ]
    },
    {
     "name": "stdout",
     "output_type": "stream",
     "text": [
      "Total deduction expected Is 246.39\n",
      "Deduction expected using old system is 81.64\n"
     ]
    },
    {
     "name": "stderr",
     "output_type": "stream",
     "text": [
      "\n"
     ]
    }
   ],
   "source": [
    "productList = ['Bananas','Apples','Strawberries']\n",
    "\n",
    "#the rule for deduction is basis value + profit margin/2\n",
    "#in our case this means that we will take \n",
    "\n",
    "\n",
    "def scrapePricePerPound(productList,lbsDonated = 1,profitMargin = .2):\n",
    "    datadict = {\"Product\":[],'Fair Market Price Per Pound':[], 'Basis Price Per Pound':[],\n",
    "                'Pounds Donated':[], 'Deduction Expected':[]}\n",
    "    \n",
    "    if isinstance(lbsDonated, int) or isinstance(lbsDonated, float):\n",
    "        donateList = False\n",
    "    elif isinstance(lbsDonated, list):\n",
    "        assert len(lbsDonated) == len(productList), 'List lengths do not match'\n",
    "        donateList = True\n",
    "        \n",
    "    print('Calculating Deductions For Simulated Donations')\n",
    "    for i in tqdm(range(len(productList))):\n",
    "        p = productList[i]\n",
    "        url = 'https://www.amazon.com/s?k='+p+'&i=wholefoods&ref=nb_sb_noss_1'\n",
    "        \n",
    "        page = requests.get(url, headers=HEADERS)\n",
    "        soup = BeautifulSoup(page.content, features=\"lxml\")\n",
    "        try:\n",
    "            l1 = [l.get_text() for l in soup.find_all('span', class_ = 'a-offscreen')]\n",
    "            l2 = [l.get_text() for l in soup.find_all('span', class_ = 'a-size-base a-color-base')]\n",
    "\n",
    "            l2 = l2[:len(l1)]\n",
    "            pricefound = False\n",
    "            for i in range(len(l1)):\n",
    "                if 'lb' in l2[i]:\n",
    "                    price = float(l1[i].replace('$',''))\n",
    "                    pricefound = True\n",
    "                    \n",
    "                    break\n",
    "            if not pricefound:\n",
    "                \n",
    "                assert False\n",
    "        except:\n",
    "            #do other system\n",
    "            souplist = [s.get_text() for s in soup.find_all('span', class_ = 'a-size-base a-color-secondary')]\n",
    "            \n",
    "            for s in souplist:\n",
    "                if 'lb' in s:\n",
    "                    price = s.split('/')[0].replace('$','').replace('(','')\n",
    "                    price = float(price)\n",
    "                    break\n",
    "                elif 'Fl Oz' or 'Ounce' in s:\n",
    "                    price = 16*float(s.split('/')[0].replace('$','').replace('(',''))\n",
    "                    break\n",
    "                    \n",
    "                else:\n",
    "                    price = np.nan\n",
    "                    \n",
    "        basisValue = round(price/(1+profitMargin),2)\n",
    "        datadict['Basis Price Per Pound'].append(basisValue)\n",
    "        deductionRate = basisValue + (profitMargin/2.)*basisValue\n",
    "        \n",
    "        if donateList:\n",
    "            deduction = float(lbsDonated[i])*deductionRate\n",
    "            datadict['Pounds Donated'].append(float(lbsDonated[i]))\n",
    "            \n",
    "        else:\n",
    "            deduction = float(lbsDonated)*deductionRate\n",
    "            datadict['Pounds Donated'].append(float(lbsDonated))\n",
    "            \n",
    "        datadict['Deduction Expected'].append(round(deduction,2))\n",
    "                    \n",
    "#         print('Price of '+p+' is '+str(price)+'/lb')\n",
    "        datadict['Product'].append(p)\n",
    "        datadict['Fair Market Price Per Pound'].append(price)\n",
    "    total_deduction = sum(datadict['Deduction Expected'])\n",
    "    print('Total deduction expected is '+str(total_deduction))\n",
    "    print('Deduction expected using old system is '+str(1.57*sum(datadict['Pounds Donated'])))\n",
    "    return datadict\n",
    "\n",
    "# scrapePricePerPound(productList)  \n",
    "                \n",
    "df= pd.read_csv('producelist.csv')\n",
    "productList = list(df['Product Name'].values)\n",
    "df = pd.DataFrame(scrapePricePerPound(productList))\n",
    "df.to_csv('deductionsimulatortest.csv',index = False)"
   ]
  },
  {
   "cell_type": "code",
   "execution_count": null,
   "metadata": {},
   "outputs": [],
   "source": []
  }
 ],
 "metadata": {
  "kernelspec": {
   "display_name": "Python 3",
   "language": "python",
   "name": "python3"
  },
  "language_info": {
   "codemirror_mode": {
    "name": "ipython",
    "version": 3
   },
   "file_extension": ".py",
   "mimetype": "text/x-python",
   "name": "python",
   "nbconvert_exporter": "python",
   "pygments_lexer": "ipython3",
   "version": "3.8.3"
  }
 },
 "nbformat": 4,
 "nbformat_minor": 4
}
